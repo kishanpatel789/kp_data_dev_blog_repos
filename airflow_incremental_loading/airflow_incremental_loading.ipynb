{
 "cells": [
  {
   "cell_type": "markdown",
   "metadata": {
    "slideshow": {
     "slide_type": "slide"
    }
   },
   "source": [
    "# Airflow Incremental Loading"
   ]
  },
  {
   "cell_type": "markdown",
   "metadata": {
    "slideshow": {
     "slide_type": "slide"
    }
   },
   "source": [
    "## What is Incremental Loading?"
   ]
  },
  {
   "cell_type": "markdown",
   "metadata": {
    "slideshow": {
     "slide_type": "slide"
    }
   },
   "source": [
    "## Data Intervals in Airflow"
   ]
  },
  {
   "cell_type": "markdown",
   "metadata": {
    "slideshow": {
     "slide_type": "subslide"
    }
   },
   "source": [
    "![Data Intervals](./images/DataIntervals.jpeg)"
   ]
  },
  {
   "cell_type": "markdown",
   "metadata": {
    "slideshow": {
     "slide_type": "slide"
    }
   },
   "source": [
    "## Donut Order DAG"
   ]
  },
  {
   "cell_type": "markdown",
   "metadata": {
    "slideshow": {
     "slide_type": "subslide"
    }
   },
   "source": [
    "![DAG design](./images/DAGDesign.jpeg)"
   ]
  },
  {
   "cell_type": "markdown",
   "metadata": {
    "slideshow": {
     "slide_type": "slide"
    }
   },
   "source": [
    "## Airflow Template Variables"
   ]
  },
  {
   "cell_type": "markdown",
   "metadata": {
    "slideshow": {
     "slide_type": "subslide"
    }
   },
   "source": [
    "```python\n",
    "from datetime import datetime\n",
    "from pathlib import Path\n",
    "\n",
    "from airflow import DAG\n",
    "from airflow.operators.bash import BashOperator\n",
    "from airflow.operators.python import PythonVirtualenvOperator\n",
    "\n",
    "from src.process_donut_orders import calculate_hourly_stats\n",
    "\n",
    "\n",
    "with DAG(\n",
    "    dag_id=\"002_process_donut_orders\",\n",
    "    start_date=datetime(2025, 2, 1),\n",
    "    schedule=\"@daily\",\n",
    "    max_active_runs=4,\n",
    "    catchup=True,\n",
    "):\n",
    "\n",
    "    get_orders = BashOperator(\n",
    "        task_id=\"get_orders\",\n",
    "        bash_command=(\n",
    "            \"mkdir -p $AIRFLOW_HOME/data/orders && \"\n",
    "            \"curl -sSo $AIRFLOW_HOME/data/orders/{{ data_interval_start | ds }}.json \"\n",
    "            \"'http://orders_api:8000/orders?\"\n",
    "            \"start_date={{ data_interval_start | ds }}&\"\n",
    "            \"end_date={{ data_interval_end | ds }}'\"\n",
    "        ),\n",
    "    )\n",
    "\n",
    "    process_orders = PythonVirtualenvOperator(\n",
    "        task_id=\"process_orders\",\n",
    "        python_callable=calculate_hourly_stats,\n",
    "        requirements=[\"polars==1.21.0\"],\n",
    "        system_site_packages=True,\n",
    "        templates_dict={\"file_name\": \"{{ data_interval_start | ds }}\"},\n",
    "        venv_cache_path=Path(\"/home/airflow/venv-cache\"),\n",
    "    )\n",
    "\n",
    "    get_orders >> process_orders\n",
    "```"
   ]
  }
 ],
 "metadata": {
  "kernelspec": {
   "display_name": "dev-3.12",
   "language": "python",
   "name": "python3"
  },
  "language_info": {
   "codemirror_mode": {
    "name": "ipython",
    "version": 3
   },
   "file_extension": ".py",
   "mimetype": "text/x-python",
   "name": "python",
   "nbconvert_exporter": "python",
   "pygments_lexer": "ipython3",
   "version": "3.12.6"
  }
 },
 "nbformat": 4,
 "nbformat_minor": 2
}
