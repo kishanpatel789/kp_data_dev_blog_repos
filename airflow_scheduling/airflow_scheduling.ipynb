{
 "cells": [
  {
   "cell_type": "markdown",
   "metadata": {},
   "source": [
    "# Airflow Scheduling"
   ]
  },
  {
   "cell_type": "markdown",
   "metadata": {},
   "source": [
    "## Scheduling Basics"
   ]
  },
  {
   "cell_type": "markdown",
   "metadata": {},
   "source": [
    "```python\n",
    "from datetime import datetime\n",
    "from airflow import DAG\n",
    "\n",
    "with DAG(\n",
    "    dag_id=\"my_amazing_dag\",\n",
    "    start_date=datetime(2025, 1, 1),  # January 1, 2025 at 12:00AM (midnight)\n",
    "    schedule=\"@daily\",\n",
    "):\n",
    "    # do something amazing here\n",
    "    pass\n",
    "```"
   ]
  },
  {
   "cell_type": "markdown",
   "metadata": {},
   "source": [
    "### First DAG Run occurs..."
   ]
  },
  {
   "cell_type": "markdown",
   "metadata": {},
   "source": [
    "![HTTP Flow](./images/ExecutionTimes.jpeg)"
   ]
  },
  {
   "cell_type": "markdown",
   "metadata": {},
   "source": [
    "## Cron"
   ]
  },
  {
   "cell_type": "markdown",
   "metadata": {},
   "source": [
    "### Standard"
   ]
  },
  {
   "cell_type": "markdown",
   "metadata": {},
   "source": [
    "https://crontab.guru/\n",
    "\n",
    "```\n",
    "┌── minute (0-59)\n",
    "| ┌── hour (0-23)\n",
    "| | ┌── day of the month (1-31)\n",
    "| | | ┌── month (1-12)   \n",
    "| | | | ┌── day of the week (0-6) (Sunday to Saturday) \n",
    "* * * * *\n",
    "```"
   ]
  },
  {
   "cell_type": "markdown",
   "metadata": {
    "slideshow": {
     "slide_type": "slide"
    }
   },
   "source": [
    "### Preset"
   ]
  },
  {
   "cell_type": "markdown",
   "metadata": {},
   "source": [
    "| Preset        | Meaning                                                    | Cron          |\n",
    "| ------------- | ---------------------------------------------------------- | ------------- |\n",
    "| `@once`       | Schedule once and only once                                |               |\n",
    "| `@continuous` | Run as soon as the previous run finishes                   |               |\n",
    "| `@hourly`     | Run once an hour at the end of the hour                    | `0 * * * *`   |\n",
    "| `@daily`      | Run once a day at midnight                                 | `0 0 * * *`   |\n",
    "| `@weekly`     | Run once a week at midnight on Sunday                      | `0 0 * * 0`   |\n",
    "| `@monthly`    | Run once a month at midnight of the first day of the month | `0 0 1 * *`   |\n",
    "| `@quarterly`  | Run once a quarter at midnight on the first day            | `0 0 1 */3 *` |\n",
    "| `@yearly`     | Run once a year at midnight of January 1                   | `0 0 1 1 *`   |"
   ]
  },
  {
   "cell_type": "markdown",
   "metadata": {},
   "source": [
    "### Extended"
   ]
  },
  {
   "cell_type": "markdown",
   "metadata": {},
   "source": [
    "#### 2nd Friday of each Month? "
   ]
  },
  {
   "cell_type": "markdown",
   "metadata": {},
   "source": [
    "Use the Hash symbol!\n",
    "\n",
    "| Schedule        | Meaning                      |\n",
    "| --------------- | ---------------------------- |\n",
    "| `30 14 * * 5`   | Every Friday at 14:30        |\n",
    "| `30 14 * * 5#2` | 2nd Friday of month at 14:30 |"
   ]
  },
  {
   "cell_type": "markdown",
   "metadata": {},
   "source": [
    "#### Every 10 minutes?"
   ]
  },
  {
   "cell_type": "markdown",
   "metadata": {},
   "source": [
    "Use step values!\n",
    "\n",
    "- `0,10,20,30,40,50 * * * *`\n",
    "- `*/10 * * * *`"
   ]
  },
  {
   "cell_type": "markdown",
   "metadata": {},
   "source": [
    "## Timedelta"
   ]
  },
  {
   "cell_type": "markdown",
   "metadata": {},
   "source": [
    "#### Every 10 minutes... Again?"
   ]
  },
  {
   "cell_type": "markdown",
   "metadata": {},
   "source": [
    "```python\n",
    "from datetime import datetime, timedelta\n",
    "from airflow import DAG\n",
    "\n",
    "with DAG(\n",
    "    dag_id=\"my_frequency_based_dag\",\n",
    "    start_date=datetime(2025, 1, 1),\n",
    "    schedule=timedelta(minutes=10),  # every minutes after 1/1/25\n",
    "):\n",
    "    # do stuff\n",
    "```"
   ]
  },
  {
   "cell_type": "markdown",
   "metadata": {},
   "source": [
    "#### Every 4 days?"
   ]
  },
  {
   "cell_type": "code",
   "execution_count": 2,
   "metadata": {},
   "outputs": [
    {
     "name": "stdout",
     "output_type": "stream",
     "text": [
      "   December 2024          January 2025         February 2025      \n",
      "Su Mo Tu We Th Fr Sa  Su Mo Tu We Th Fr Sa  Su Mo Tu We Th Fr Sa  \n",
      " 1  2  3  4  5  6  7            1  2  3  4                     1  \n",
      " 8  9 10 11 12 13 14   5  6  7  8  9 10 11   2  3  4  5  6  7  8  \n",
      "15 16 17 18 19 20 21  12 13 14 15 16 17 18   9 10 11 12 13 14 15  \n",
      "22 23 24 25 26 27 28  19 20 21 22 23 24 25  16 17 18 19 20 21 22  \n",
      "29 30 31              26 27 28 29 30 31     23 24 25 26 27 28     \n",
      "                                                                  \n"
     ]
    }
   ],
   "source": [
    "!cal -A 1 -B 1"
   ]
  },
  {
   "cell_type": "markdown",
   "metadata": {},
   "source": [
    "```python\n",
    "with DAG(\n",
    "    dag_id=\"my_frequency_based_dag\",\n",
    "    start_date=datetime(2025, 1, 1),\n",
    "    schedule=timedelta(days=4),  # every 4 days after 1/1/25\n",
    "):\n",
    "    # do stuff\n",
    "```"
   ]
  },
  {
   "cell_type": "markdown",
   "metadata": {},
   "source": [
    "## Dataset"
   ]
  },
  {
   "cell_type": "markdown",
   "metadata": {},
   "source": [
    "```python\n",
    "from datetime import datetime\n",
    "from airflow import DAG\n",
    "from airflow.datasets import Dataset\n",
    "\n",
    "my_dataset = Dataset(uri=\"/opt/airflow/my_file.txt\")  # <--- 1. define Dataset\n",
    "\n",
    "with DAG(\n",
    "    dag_id=\"produce_dataset\",\n",
    "    start_date=datetime(2025, 1, 1),\n",
    "    schedule=\"45 15 * * 4\",\n",
    "):\n",
    "    # ...\n",
    "    create_dataset = BashOperator(\n",
    "        task_id=\"create_dataset\",\n",
    "        bash_command=f\"echo 'Keep it secret, Keep it safe' > {my_dataset.uri}\",\n",
    "        outlets=[my_dataset],    # <--- 2. reference Dataset in outlet of this task\n",
    "    )\n",
    "    # ...\n",
    "\n",
    "\n",
    "with DAG(\n",
    "    dag_id=\"consume_dataset\",\n",
    "    start_date=datetime(2025, 1, 1),\n",
    "    schedule=my_dataset,         # <--- 3. use Dataset in schedule of downstream DAG\n",
    "):\n",
    "    #...\n",
    "    read_dataset = BashOperator(\n",
    "        task_id=\"read_dataset\",\n",
    "        bash_command=f\"cat {my_dataset.uri}\",\n",
    "    )\n",
    "    # ...\n",
    "```"
   ]
  },
  {
   "cell_type": "markdown",
   "metadata": {},
   "source": [
    "## Timetable"
   ]
  },
  {
   "cell_type": "markdown",
   "metadata": {},
   "source": [
    "```python\n",
    "from datetime import datetime\n",
    "import pendulum\n",
    "\n",
    "from airflow import DAG\n",
    "from airflow.timetables.events import EventsTimetable\n",
    "\n",
    "my_events = EventsTimetable(  # <--- define custom Timetable\n",
    "    event_dates=[\n",
    "        pendulum.datetime(2025, 1, 1), # New Years Day\n",
    "        pendulum.datetime(2025, 1, 20), # MLK Jr Day\n",
    "        pendulum.datetime(2025, 2, 17), # Presidents' Day\n",
    "        pendulum.datetime(2025, 5, 26), # Memorial Day\n",
    "        pendulum.datetime(2025, 6, 19), # Juneteenth\n",
    "        pendulum.datetime(2025, 7, 4), # Independence Day\n",
    "        pendulum.datetime(2025, 7, 31), # Harry Potter's Birthday\n",
    "        pendulum.datetime(2025, 9, 1), # Labor Day\n",
    "        pendulum.datetime(2025, 11, 11), # Veterans Day\n",
    "        pendulum.datetime(2025, 11, 27), # Thanksgiving Day\n",
    "        pendulum.datetime(2025, 12, 25), # Christmas Day\n",
    "    ],\n",
    ")\n",
    "\n",
    "with DAG(\n",
    "    dag_id=\"my_timetable_dag\",\n",
    "    start_date=datetime(2025, 1, 1),\n",
    "    schedule=my_events,    # <--- use custom Timetable as schedule\n",
    "):\n",
    "    # do stuff\n",
    "```"
   ]
  }
 ],
 "metadata": {
  "kernelspec": {
   "display_name": "venv",
   "language": "python",
   "name": "python3"
  },
  "language_info": {
   "codemirror_mode": {
    "name": "ipython",
    "version": 3
   },
   "file_extension": ".py",
   "mimetype": "text/x-python",
   "name": "python",
   "nbconvert_exporter": "python",
   "pygments_lexer": "ipython3",
   "version": "3.12.6"
  }
 },
 "nbformat": 4,
 "nbformat_minor": 4
}
